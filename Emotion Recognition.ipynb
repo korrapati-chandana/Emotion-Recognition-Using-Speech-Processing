{
 "cells": [
  {
   "cell_type": "code",
   "execution_count": 1,
   "id": "66ae3974-590d-4b06-b902-69f8273c0d03",
   "metadata": {
    "scrolled": true
   },
   "outputs": [],
   "source": [
    "import os\n",
    "import librosa\n",
    "import numpy as np\n",
    "import pandas as pd"
   ]
  },
  {
   "cell_type": "code",
   "execution_count": 2,
   "id": "dd28cc0c-b75f-46e7-b796-2e6a86b5d9e0",
   "metadata": {},
   "outputs": [],
   "source": [
    "Ravdess = r\"C:/Users/chandu/Documents/Major project/audio_speech_actors_01-24/\"\n",
    "Crema = r\"C:/Users/chandu/Documents/Major project/AudioWAV/\"\n",
    "Tess = r\"C:/Users/chandu/Documents/Major project/TESS Toronto emotional speech set data/\"\n",
    "Savee = r\"C:/Users/chandu/Documents/Major project/ALL/\"\n"
   ]
  },
  {
   "cell_type": "code",
   "execution_count": 3,
   "id": "6d3bbc0b-438b-483d-acf2-f793e9f88326",
   "metadata": {},
   "outputs": [],
   "source": [
    "# Emotion map for each dataset\n",
    "ravdess_emotions = {\n",
    "    '01': 'neutral', '02': 'calm', '03': 'happy', '04': 'sad',\n",
    "    '05': 'angry', '06': 'fearful', '07': 'disgust', '08': 'surprised'\n",
    "}\n",
    "crema_emotions = {\n",
    "    'SAD': 'sad', 'ANG': 'angry', 'DIS': 'disgust', 'FEA': 'fearful',\n",
    "    'HAP': 'happy', 'NEU': 'neutral'\n",
    "}\n",
    "tess_emotions = {\n",
    "    'angry': 'angry', 'disgust': 'disgust', 'fear': 'fearful',\n",
    "    'happy': 'happy', 'neutral': 'neutral', 'ps': 'surprised', 'sad': 'sad'\n",
    "}\n",
    "savee_emotions = {\n",
    "    'a': 'angry', 'd': 'disgust', 'f': 'fearful', 'h': 'happy',\n",
    "    'n': 'neutral', 'sa': 'sad', 'su': 'surprised'\n",
    "}\n"
   ]
  },
  {
   "cell_type": "code",
   "execution_count": 4,
   "id": "c7d3c2a7-2caf-41f1-bcab-5b125850c13a",
   "metadata": {},
   "outputs": [],
   "source": [
    "# Function to extract MFCC features\n",
    "def extract_features(file_path, sr=22050, n_mfcc=40):\n",
    "    try:\n",
    "        audio, sample_rate = librosa.load(file_path, sr=sr)\n",
    "        mfcc = librosa.feature.mfcc(y=audio, sr=sample_rate, n_mfcc=n_mfcc)\n",
    "        mfcc_scaled = np.mean(mfcc.T, axis=0)\n",
    "        return mfcc_scaled\n",
    "    except Exception as e:\n",
    "        print(f\"Error extracting features from {file_path}: {e}\")\n",
    "        return None\n"
   ]
  },
  {
   "cell_type": "code",
   "execution_count": 5,
   "id": "ff3aace7-8422-4af1-abd4-e4f2dc82d215",
   "metadata": {
    "scrolled": true
   },
   "outputs": [
    {
     "name": "stderr",
     "output_type": "stream",
     "text": [
      "C:\\Users\\chandu\\AppData\\Local\\Temp\\ipykernel_10200\\1991199444.py:4: UserWarning: PySoundFile failed. Trying audioread instead.\n",
      "  audio, sample_rate = librosa.load(file_path, sr=sr)\n",
      "C:\\Users\\chandu\\AppData\\Roaming\\Python\\Python311\\site-packages\\librosa\\core\\audio.py:184: FutureWarning: librosa.core.audio.__audioread_load\n",
      "\tDeprecated as of librosa version 0.10.0.\n",
      "\tIt will be removed in librosa version 1.0.\n",
      "  y, sr_native = __audioread_load(path, offset, duration, dtype)\n"
     ]
    },
    {
     "name": "stdout",
     "output_type": "stream",
     "text": [
      "Error extracting features from C:/Users/chandu/Documents/Major project/TESS Toronto emotional speech set data/TESS Toronto emotional speech set data\\OAF_angry: [Errno 13] Permission denied: 'C:/Users/chandu/Documents/Major project/TESS Toronto emotional speech set data/TESS Toronto emotional speech set data\\\\OAF_angry'\n",
      "Error extracting features from C:/Users/chandu/Documents/Major project/TESS Toronto emotional speech set data/TESS Toronto emotional speech set data\\OAF_disgust: [Errno 13] Permission denied: 'C:/Users/chandu/Documents/Major project/TESS Toronto emotional speech set data/TESS Toronto emotional speech set data\\\\OAF_disgust'\n",
      "Error extracting features from C:/Users/chandu/Documents/Major project/TESS Toronto emotional speech set data/TESS Toronto emotional speech set data\\OAF_Fear: [Errno 13] Permission denied: 'C:/Users/chandu/Documents/Major project/TESS Toronto emotional speech set data/TESS Toronto emotional speech set data\\\\OAF_Fear'\n",
      "Error extracting features from C:/Users/chandu/Documents/Major project/TESS Toronto emotional speech set data/TESS Toronto emotional speech set data\\OAF_happy: [Errno 13] Permission denied: 'C:/Users/chandu/Documents/Major project/TESS Toronto emotional speech set data/TESS Toronto emotional speech set data\\\\OAF_happy'\n",
      "Error extracting features from C:/Users/chandu/Documents/Major project/TESS Toronto emotional speech set data/TESS Toronto emotional speech set data\\OAF_neutral: [Errno 13] Permission denied: 'C:/Users/chandu/Documents/Major project/TESS Toronto emotional speech set data/TESS Toronto emotional speech set data\\\\OAF_neutral'\n",
      "Error extracting features from C:/Users/chandu/Documents/Major project/TESS Toronto emotional speech set data/TESS Toronto emotional speech set data\\OAF_Pleasant_surprise: [Errno 13] Permission denied: 'C:/Users/chandu/Documents/Major project/TESS Toronto emotional speech set data/TESS Toronto emotional speech set data\\\\OAF_Pleasant_surprise'\n",
      "Error extracting features from C:/Users/chandu/Documents/Major project/TESS Toronto emotional speech set data/TESS Toronto emotional speech set data\\OAF_Sad: [Errno 13] Permission denied: 'C:/Users/chandu/Documents/Major project/TESS Toronto emotional speech set data/TESS Toronto emotional speech set data\\\\OAF_Sad'\n",
      "Error extracting features from C:/Users/chandu/Documents/Major project/TESS Toronto emotional speech set data/TESS Toronto emotional speech set data\\YAF_angry: [Errno 13] Permission denied: 'C:/Users/chandu/Documents/Major project/TESS Toronto emotional speech set data/TESS Toronto emotional speech set data\\\\YAF_angry'\n",
      "Error extracting features from C:/Users/chandu/Documents/Major project/TESS Toronto emotional speech set data/TESS Toronto emotional speech set data\\YAF_disgust: [Errno 13] Permission denied: 'C:/Users/chandu/Documents/Major project/TESS Toronto emotional speech set data/TESS Toronto emotional speech set data\\\\YAF_disgust'\n",
      "Error extracting features from C:/Users/chandu/Documents/Major project/TESS Toronto emotional speech set data/TESS Toronto emotional speech set data\\YAF_fear: [Errno 13] Permission denied: 'C:/Users/chandu/Documents/Major project/TESS Toronto emotional speech set data/TESS Toronto emotional speech set data\\\\YAF_fear'\n",
      "Error extracting features from C:/Users/chandu/Documents/Major project/TESS Toronto emotional speech set data/TESS Toronto emotional speech set data\\YAF_happy: [Errno 13] Permission denied: 'C:/Users/chandu/Documents/Major project/TESS Toronto emotional speech set data/TESS Toronto emotional speech set data\\\\YAF_happy'\n",
      "Error extracting features from C:/Users/chandu/Documents/Major project/TESS Toronto emotional speech set data/TESS Toronto emotional speech set data\\YAF_neutral: [Errno 13] Permission denied: 'C:/Users/chandu/Documents/Major project/TESS Toronto emotional speech set data/TESS Toronto emotional speech set data\\\\YAF_neutral'\n",
      "Error extracting features from C:/Users/chandu/Documents/Major project/TESS Toronto emotional speech set data/TESS Toronto emotional speech set data\\YAF_pleasant_surprised: [Errno 13] Permission denied: 'C:/Users/chandu/Documents/Major project/TESS Toronto emotional speech set data/TESS Toronto emotional speech set data\\\\YAF_pleasant_surprised'\n",
      "Error extracting features from C:/Users/chandu/Documents/Major project/TESS Toronto emotional speech set data/TESS Toronto emotional speech set data\\YAF_sad: [Errno 13] Permission denied: 'C:/Users/chandu/Documents/Major project/TESS Toronto emotional speech set data/TESS Toronto emotional speech set data\\\\YAF_sad'\n",
      "Data preprocessing completed and saved!\n"
     ]
    }
   ],
   "source": [
    "\n",
    "# Process datasets\n",
    "data = []\n",
    "\n",
    "# RAVDESS\n",
    "for actor in os.listdir(Ravdess):\n",
    "    actor_path = os.path.join(Ravdess, actor)\n",
    "    for file in os.listdir(actor_path):\n",
    "        emotion_code = file.split(\"-\")[2]\n",
    "        emotion = ravdess_emotions[emotion_code]\n",
    "        file_path = os.path.join(actor_path, file)\n",
    "        features = extract_features(file_path)\n",
    "        if features is not None:\n",
    "            data.append([features, emotion])\n",
    "\n",
    "# CREMA-D\n",
    "for file in os.listdir(Crema):\n",
    "    emotion_code = file.split('_')[2]\n",
    "    emotion = crema_emotions.get(emotion_code)\n",
    "    file_path = os.path.join(Crema, file)\n",
    "    features = extract_features(file_path)\n",
    "    if features is not None:\n",
    "        data.append([features, emotion])\n",
    "\n",
    "# TESS\n",
    "for folder in os.listdir(Tess):\n",
    "    folder_path = os.path.join(Tess, folder)\n",
    "    for file in os.listdir(folder_path):\n",
    "        emotion = file.split('_')[-1].split('.')[0].lower()\n",
    "        emotion = tess_emotions.get(emotion)\n",
    "        file_path = os.path.join(folder_path, file)\n",
    "        features = extract_features(file_path)\n",
    "        if features is not None:\n",
    "            data.append([features, emotion])\n",
    "\n",
    "# SAVEE\n",
    "for file in os.listdir(Savee):\n",
    "    emotion_code = ''.join([char for char in file if char.isalpha()])\n",
    "    emotion = savee_emotions.get(emotion_code)\n",
    "    file_path = os.path.join(Savee, file)\n",
    "    features = extract_features(file_path)\n",
    "    if features is not None:\n",
    "        data.append([features, emotion])\n",
    "\n",
    "# Convert to DataFrame and save\n",
    "df = pd.DataFrame(data, columns=['features', 'emotion'])\n",
    "df.to_pickle('emotion_features.pkl')\n",
    "print(\"Data preprocessing completed and saved!\")\n"
   ]
  },
  {
   "cell_type": "code",
   "execution_count": null,
   "id": "f92f3cb3-92c2-4bf4-8aef-5b4fcadcada3",
   "metadata": {},
   "outputs": [],
   "source": []
  },
  {
   "cell_type": "code",
   "execution_count": 6,
   "id": "762ee37b-60d3-44b2-9989-6ab3104a7bdd",
   "metadata": {},
   "outputs": [
    {
     "data": {
      "text/html": [
       "<div>\n",
       "<style scoped>\n",
       "    .dataframe tbody tr th:only-of-type {\n",
       "        vertical-align: middle;\n",
       "    }\n",
       "\n",
       "    .dataframe tbody tr th {\n",
       "        vertical-align: top;\n",
       "    }\n",
       "\n",
       "    .dataframe thead th {\n",
       "        text-align: right;\n",
       "    }\n",
       "</style>\n",
       "<table border=\"1\" class=\"dataframe\">\n",
       "  <thead>\n",
       "    <tr style=\"text-align: right;\">\n",
       "      <th></th>\n",
       "      <th>features</th>\n",
       "      <th>emotion</th>\n",
       "    </tr>\n",
       "  </thead>\n",
       "  <tbody>\n",
       "    <tr>\n",
       "      <th>0</th>\n",
       "      <td>[-697.7926, 54.89004, 0.6634652, 12.435786, 7....</td>\n",
       "      <td>neutral</td>\n",
       "    </tr>\n",
       "    <tr>\n",
       "      <th>1</th>\n",
       "      <td>[-692.8558, 55.3639, -1.5483192, 16.038307, 8....</td>\n",
       "      <td>neutral</td>\n",
       "    </tr>\n",
       "    <tr>\n",
       "      <th>2</th>\n",
       "      <td>[-691.5879, 58.024662, 0.15946463, 13.62465, 5...</td>\n",
       "      <td>neutral</td>\n",
       "    </tr>\n",
       "    <tr>\n",
       "      <th>3</th>\n",
       "      <td>[-685.10547, 55.87942, 2.783262, 13.252024, 6....</td>\n",
       "      <td>neutral</td>\n",
       "    </tr>\n",
       "    <tr>\n",
       "      <th>4</th>\n",
       "      <td>[-727.1044, 62.355034, 3.1211812, 15.064671, 8...</td>\n",
       "      <td>calm</td>\n",
       "    </tr>\n",
       "  </tbody>\n",
       "</table>\n",
       "</div>"
      ],
      "text/plain": [
       "                                            features  emotion\n",
       "0  [-697.7926, 54.89004, 0.6634652, 12.435786, 7....  neutral\n",
       "1  [-692.8558, 55.3639, -1.5483192, 16.038307, 8....  neutral\n",
       "2  [-691.5879, 58.024662, 0.15946463, 13.62465, 5...  neutral\n",
       "3  [-685.10547, 55.87942, 2.783262, 13.252024, 6....  neutral\n",
       "4  [-727.1044, 62.355034, 3.1211812, 15.064671, 8...     calm"
      ]
     },
     "execution_count": 6,
     "metadata": {},
     "output_type": "execute_result"
    }
   ],
   "source": [
    "df.head()"
   ]
  },
  {
   "cell_type": "code",
   "execution_count": 7,
   "id": "0312b9ee-4aee-4af2-b982-92aa27ed7757",
   "metadata": {},
   "outputs": [
    {
     "data": {
      "text/plain": [
       "features      0\n",
       "emotion     480\n",
       "dtype: int64"
      ]
     },
     "execution_count": 7,
     "metadata": {},
     "output_type": "execute_result"
    }
   ],
   "source": [
    "df.isnull().sum()"
   ]
  },
  {
   "cell_type": "code",
   "execution_count": 8,
   "id": "f7672ce5-e91a-4aff-a0e4-454224a5b5ad",
   "metadata": {},
   "outputs": [
    {
     "data": {
      "text/plain": [
       "(12162, 2)"
      ]
     },
     "execution_count": 8,
     "metadata": {},
     "output_type": "execute_result"
    }
   ],
   "source": [
    "df.shape"
   ]
  },
  {
   "cell_type": "code",
   "execution_count": 9,
   "id": "d050618c-fa91-46b3-89b9-211cf7020d36",
   "metadata": {},
   "outputs": [
    {
     "name": "stdout",
     "output_type": "stream",
     "text": [
      "<class 'pandas.core.frame.DataFrame'>\n",
      "RangeIndex: 12162 entries, 0 to 12161\n",
      "Data columns (total 2 columns):\n",
      " #   Column    Non-Null Count  Dtype \n",
      "---  ------    --------------  ----- \n",
      " 0   features  12162 non-null  object\n",
      " 1   emotion   11682 non-null  object\n",
      "dtypes: object(2)\n",
      "memory usage: 190.2+ KB\n"
     ]
    }
   ],
   "source": [
    "df.info()"
   ]
  },
  {
   "cell_type": "code",
   "execution_count": 10,
   "id": "ed861e0b-3750-4bc9-a525-84f204dc3516",
   "metadata": {},
   "outputs": [
    {
     "name": "stdout",
     "output_type": "stream",
     "text": [
      "['neutral' 'calm' 'happy' 'sad' 'angry' 'fearful' 'disgust' 'surprised'\n",
      " None]\n"
     ]
    }
   ],
   "source": [
    "print(df['emotion'].unique())\n"
   ]
  },
  {
   "cell_type": "code",
   "execution_count": 11,
   "id": "217e3538-4b08-4e28-b2d1-559e68d4b2a3",
   "metadata": {},
   "outputs": [
    {
     "name": "stdout",
     "output_type": "stream",
     "text": [
      "emotion\n",
      "happy        1863\n",
      "sad          1863\n",
      "angry        1863\n",
      "fearful      1863\n",
      "disgust      1863\n",
      "neutral      1583\n",
      "surprised     592\n",
      "calm          192\n",
      "Name: count, dtype: int64\n"
     ]
    }
   ],
   "source": [
    "print(df['emotion'].value_counts())"
   ]
  },
  {
   "cell_type": "code",
   "execution_count": 12,
   "id": "53d774a6-8db5-4bdd-8cb9-e1c90b467ea9",
   "metadata": {},
   "outputs": [],
   "source": [
    "import matplotlib.pyplot as plt\n",
    "import seaborn as sns"
   ]
  },
  {
   "cell_type": "code",
   "execution_count": 13,
   "id": "68ee4bb3-4280-4be8-b65d-89e3250d7e59",
   "metadata": {},
   "outputs": [
    {
     "data": {
      "image/png": "[encoded data removed]",
      "text/plain": [
       "<Figure size 700x400 with 1 Axes>"
      ]
     },
     "metadata": {},
     "output_type": "display_data"
    }
   ],
   "source": [
    "plt.figure(figsize=(7, 4))\n",
    "plt.title('Count of Emotions', size=16)\n",
    "sns.countplot(x='emotion', data=df)  \n",
    "plt.ylabel('Count', size=12)\n",
    "plt.xlabel('Emotions', size=12)\n",
    "sns.despine(top=True, right=True, left=False, bottom=False)\n",
    "plt.show()\n"
   ]
  },
  {
   "cell_type": "code",
   "execution_count": 14,
   "id": "482bc209-e972-497d-8a15-7505f4aab0e4",
   "metadata": {},
   "outputs": [
    {
     "data": {
      "image/png": "[encoded data removed]",
      "text/plain": [
       "<Figure size 1000x500 with 1 Axes>"
      ]
     },
     "metadata": {},
     "output_type": "display_data"
    }
   ],
   "source": [
    "emotion_counts = df['emotion'].value_counts()\n",
    "\n",
    "# Create a pie chart with automatically generated colors\n",
    "plt.figure(figsize=(10, 5))\n",
    "plt.pie(emotion_counts, labels=emotion_counts.index, autopct='%1.1f%%', startangle=140)\n",
    "plt.title('Distribution of Emotions', size=16)\n",
    "plt.axis('equal') \n",
    "plt.legend(emotion_counts.index, title='emotions', loc='upper right')\n",
    "\n",
    "plt.show()\n"
   ]
  },
  {
   "cell_type": "code",
   "execution_count": 15,
   "id": "e698e8a5-dfa1-49b1-a156-423f952bdeab",
   "metadata": {},
   "outputs": [
    {
     "data": {
      "image/png": "[encoded data removed]",
      "text/plain": [
       "<Figure size 700x400 with 1 Axes>"
      ]
     },
     "metadata": {},
     "output_type": "display_data"
    }
   ],
   "source": [
    "plt.figure(figsize=(7, 4))\n",
    "plt.bar(emotion_counts.index, emotion_counts.values, color='blue', alpha=0.7)\n",
    "plt.title('Histogram of Emotion Counts', size=16)\n",
    "plt.ylabel('Count', size=12)\n",
    "plt.xlabel('Emotions', size=12)\n",
    "plt.xticks(rotation=45)\n",
    "plt.grid(axis='y')\n",
    "plt.show()\n"
   ]
  },
  {
   "cell_type": "code",
   "execution_count": 16,
   "id": "df83c677-8003-4b4c-a47c-dd93d6b9926a",
   "metadata": {},
   "outputs": [
    {
     "data": {
      "image/png": "[encoded data removed]",
      "text/plain": [
       "<Figure size 1000x200 with 1 Axes>"
      ]
     },
     "metadata": {},
     "output_type": "display_data"
    }
   ],
   "source": [
    "heatmap_data = emotion_counts.values.reshape(1, -1)  # Reshape to 1 row\n",
    "plt.figure(figsize=(10, 2))\n",
    "sns.heatmap(heatmap_data, annot=True, fmt='d', cmap='YlGnBu', cbar=False, \n",
    "            xticklabels=emotion_counts.index, yticklabels=['Count'])\n",
    "plt.title('Heatmap of Emotion Counts', size=16)\n",
    "plt.xlabel('Emotions', size=12)\n",
    "plt.ylabel('Count', size=12)\n",
    "plt.show()\n"
   ]
  },
  {
   "cell_type": "code",
   "execution_count": null,
   "id": "d34fc572-2963-40ac-b4b3-bfdfe458ccd2",
   "metadata": {},
   "outputs": [],
   "source": []
  },
  {
   "cell_type": "code",
   "execution_count": null,
   "id": "0fe80d14-4fe8-4149-87e9-cf40adaa2c85",
   "metadata": {},
   "outputs": [],
   "source": []
  },
  {
   "cell_type": "code",
   "execution_count": 17,
   "id": "39b0e74d-b675-4212-a43f-9797046ecd9e",
   "metadata": {},
   "outputs": [],
   "source": [
    "import pandas as pd\n",
    "from sklearn.model_selection import train_test_split\n",
    "from sklearn.preprocessing import StandardScaler, LabelEncoder\n",
    "from sklearn.ensemble import RandomForestClassifier\n",
    "from sklearn.metrics import accuracy_score\n",
    "\n",
    "df = pd.DataFrame(data, columns=['features', 'emotion'])\n",
    "\n",
    "# Prepare features (X) and target (y)\n",
    "X = pd.get_dummies(df.drop('features', axis=1), drop_first=True)  \n",
    "y = LabelEncoder().fit_transform(df['emotion'])\n",
    "\n",
    "# Scale features\n",
    "X = StandardScaler().fit_transform(X)\n"
   ]
  },
  {
   "cell_type": "code",
   "execution_count": 18,
   "id": "16a08f1c-001e-45bd-9536-ff753e581b54",
   "metadata": {},
   "outputs": [
    {
     "name": "stdout",
     "output_type": "stream",
     "text": [
      "Random Forest Accuracy: 96.05%\n"
     ]
    }
   ],
   "source": [
    "\n",
    "# Train-test split\n",
    "X_train, X_test, y_train, y_test = train_test_split(X, y, test_size=0.2, random_state=42)\n",
    "\n",
    "# Train and evaluate model\n",
    "model = RandomForestClassifier(random_state=42)\n",
    "model.fit(X_train, y_train)\n",
    "accuracy = accuracy_score(y_test, model.predict(X_test))\n",
    "\n",
    "print(f\"Random Forest Accuracy: {accuracy * 100:.2f}%\")\n"
   ]
  },
  {
   "cell_type": "code",
   "execution_count": 19,
   "id": "0a5ab7d3-3707-47b5-9d08-062339f55521",
   "metadata": {},
   "outputs": [
    {
     "name": "stdout",
     "output_type": "stream",
     "text": [
      "KNN Model Accuracy: 96.05%\n"
     ]
    }
   ],
   "source": [
    "from sklearn.neighbors import KNeighborsClassifier\n",
    "from sklearn.metrics import accuracy_score\n",
    "\n",
    "# Train and evaluate KNN model\n",
    "knn_model = KNeighborsClassifier(n_neighbors=5)  \n",
    "knn_model.fit(X_train, y_train)\n",
    "accuracy_knn = accuracy_score(y_test, knn_model.predict(X_test))\n",
    "\n",
    "print(f\"KNN Model Accuracy: {accuracy_knn * 100:.2f}%\")\n"
   ]
  },
  {
   "cell_type": "code",
   "execution_count": 20,
   "id": "ee9b22dd-c9bc-4fff-8e4d-2812d3008a91",
   "metadata": {},
   "outputs": [
    {
     "name": "stdout",
     "output_type": "stream",
     "text": [
      "SVM Model Accuracy: 96.05%\n"
     ]
    }
   ],
   "source": [
    "from sklearn.svm import SVC\n",
    "\n",
    "# Train and evaluate SVM model\n",
    "svm_model = SVC(kernel='linear', random_state=42)  \n",
    "svm_model.fit(X_train, y_train)\n",
    "accuracy_svm = accuracy_score(y_test, svm_model.predict(X_test))\n",
    "\n",
    "print(f\"SVM Model Accuracy: {accuracy_svm * 100:.2f}%\")\n"
   ]
  },
  {
   "cell_type": "code",
   "execution_count": 21,
   "id": "a098b932-7775-4b54-b84a-2bd55e463a84",
   "metadata": {
    "scrolled": true
   },
   "outputs": [
    {
     "name": "stderr",
     "output_type": "stream",
     "text": [
      "C:\\Users\\chandu\\AppData\\Roaming\\Python\\Python311\\site-packages\\keras\\src\\layers\\convolutional\\base_conv.py:107: UserWarning: Do not pass an `input_shape`/`input_dim` argument to a layer. When using Sequential models, prefer using an `Input(shape)` object as the first layer in the model instead.\n",
      "  super().__init__(activity_regularizer=activity_regularizer, **kwargs)\n"
     ]
    },
    {
     "name": "stdout",
     "output_type": "stream",
     "text": [
      "Epoch 1/10\n",
      "\u001b[1m305/305\u001b[0m \u001b[32m━━━━━━━━━━━━━━━━━━━━\u001b[0m\u001b[37m\u001b[0m \u001b[1m16s\u001b[0m 6ms/step - accuracy: 0.7353 - loss: 1.1066 - val_accuracy: 0.9162 - val_loss: 0.2259\n",
      "Epoch 2/10\n",
      "\u001b[1m305/305\u001b[0m \u001b[32m━━━━━━━━━━━━━━━━━━━━\u001b[0m\u001b[37m\u001b[0m \u001b[1m1s\u001b[0m 4ms/step - accuracy: 0.9125 - loss: 0.2284 - val_accuracy: 0.9162 - val_loss: 0.2164\n",
      "Epoch 3/10\n",
      "\u001b[1m305/305\u001b[0m \u001b[32m━━━━━━━━━━━━━━━━━━━━\u001b[0m\u001b[37m\u001b[0m \u001b[1m1s\u001b[0m 4ms/step - accuracy: 0.9075 - loss: 0.2289 - val_accuracy: 0.9162 - val_loss: 0.2136\n",
      "Epoch 4/10\n",
      "\u001b[1m305/305\u001b[0m \u001b[32m━━━━━━━━━━━━━━━━━━━━\u001b[0m\u001b[37m\u001b[0m \u001b[1m1s\u001b[0m 4ms/step - accuracy: 0.9076 - loss: 0.2283 - val_accuracy: 0.9162 - val_loss: 0.2131\n",
      "Epoch 5/10\n",
      "\u001b[1m305/305\u001b[0m \u001b[32m━━━━━━━━━━━━━━━━━━━━\u001b[0m\u001b[37m\u001b[0m \u001b[1m1s\u001b[0m 3ms/step - accuracy: 0.9102 - loss: 0.2234 - val_accuracy: 0.9162 - val_loss: 0.2145\n",
      "Epoch 6/10\n",
      "\u001b[1m305/305\u001b[0m \u001b[32m━━━━━━━━━━━━━━━━━━━━\u001b[0m\u001b[37m\u001b[0m \u001b[1m1s\u001b[0m 3ms/step - accuracy: 0.9132 - loss: 0.2240 - val_accuracy: 0.9162 - val_loss: 0.2133\n",
      "Epoch 7/10\n",
      "\u001b[1m305/305\u001b[0m \u001b[32m━━━━━━━━━━━━━━━━━━━━\u001b[0m\u001b[37m\u001b[0m \u001b[1m1s\u001b[0m 4ms/step - accuracy: 0.9112 - loss: 0.2207 - val_accuracy: 0.9162 - val_loss: 0.2165\n",
      "Epoch 8/10\n",
      "\u001b[1m305/305\u001b[0m \u001b[32m━━━━━━━━━━━━━━━━━━━━\u001b[0m\u001b[37m\u001b[0m \u001b[1m1s\u001b[0m 3ms/step - accuracy: 0.9131 - loss: 0.2189 - val_accuracy: 0.9162 - val_loss: 0.2147\n",
      "Epoch 9/10\n",
      "\u001b[1m305/305\u001b[0m \u001b[32m━━━━━━━━━━━━━━━━━━━━\u001b[0m\u001b[37m\u001b[0m \u001b[1m1s\u001b[0m 3ms/step - accuracy: 0.9154 - loss: 0.2142 - val_accuracy: 0.9162 - val_loss: 0.2132\n",
      "Epoch 10/10\n",
      "\u001b[1m305/305\u001b[0m \u001b[32m━━━━━━━━━━━━━━━━━━━━\u001b[0m\u001b[37m\u001b[0m \u001b[1m1s\u001b[0m 4ms/step - accuracy: 0.9064 - loss: 0.2284 - val_accuracy: 0.9162 - val_loss: 0.2136\n",
      "\u001b[1m77/77\u001b[0m \u001b[32m━━━━━━━━━━━━━━━━━━━━\u001b[0m\u001b[37m\u001b[0m \u001b[1m0s\u001b[0m 3ms/step - accuracy: 0.9199 - loss: 0.2099\n",
      "CNN Model Accuracy: 91.62%\n"
     ]
    }
   ],
   "source": [
    "import tensorflow as tf\n",
    "from tensorflow.keras.models import Sequential\n",
    "from tensorflow.keras.layers import Conv1D, MaxPooling1D, Flatten, Dense\n",
    "\n",
    "# Reshape data for 1D CNN\n",
    "X_train_cnn = X_train[..., None]  # Add channel dimension\n",
    "X_test_cnn = X_test[..., None]\n",
    "\n",
    "# Build CNN model\n",
    "cnn_model = Sequential([\n",
    "    Conv1D(filters=32, kernel_size=3, activation='relu', input_shape=(X_train_cnn.shape[1], 1)),\n",
    "    MaxPooling1D(pool_size=2),\n",
    "    Flatten(),\n",
    "    Dense(64, activation='relu'),\n",
    "    Dense(len(set(y)), activation='softmax')  # Output layer for multi-class classification\n",
    "])\n",
    "\n",
    "# Compile and train the model\n",
    "cnn_model.compile(optimizer='adam', loss='sparse_categorical_crossentropy', metrics=['accuracy'])\n",
    "cnn_model.fit(X_train_cnn, y_train, epochs=10, batch_size=32, validation_data=(X_test_cnn, y_test))\n",
    "\n",
    "# Evaluate the model\n",
    "loss, accuracy_cnn = cnn_model.evaluate(X_test_cnn, y_test)\n",
    "print(f\"CNN Model Accuracy: {accuracy_cnn * 100:.2f}%\")\n"
   ]
  },
  {
   "cell_type": "code",
   "execution_count": null,
   "id": "e19d91d3-847a-47cb-ad86-b032136228e3",
   "metadata": {},
   "outputs": [],
   "source": []
  },
  {
   "cell_type": "code",
   "execution_count": null,
   "id": "55842552-6c9a-4283-8c7b-f72e4009b66b",
   "metadata": {},
   "outputs": [],
   "source": []
  },
  {
   "cell_type": "code",
   "execution_count": null,
   "id": "44b1bcc8-650b-4cdc-bdea-8eafc76f9c01",
   "metadata": {},
   "outputs": [],
   "source": []
  },
  {
   "cell_type": "code",
   "execution_count": 22,
   "id": "ca0603e7-0dda-46db-9f75-fe031ed5121f",
   "metadata": {
    "scrolled": true
   },
   "outputs": [
    {
     "name": "stdout",
     "output_type": "stream",
     "text": [
      "Epoch 1/50\n"
     ]
    },
    {
     "name": "stderr",
     "output_type": "stream",
     "text": [
      "C:\\Users\\chandu\\AppData\\Roaming\\Python\\Python311\\site-packages\\keras\\src\\layers\\core\\dense.py:87: UserWarning: Do not pass an `input_shape`/`input_dim` argument to a layer. When using Sequential models, prefer using an `Input(shape)` object as the first layer in the model instead.\n",
      "  super().__init__(activity_regularizer=activity_regularizer, **kwargs)\n"
     ]
    },
    {
     "name": "stdout",
     "output_type": "stream",
     "text": [
      "\u001b[1m305/305\u001b[0m \u001b[32m━━━━━━━━━━━━━━━━━━━━\u001b[0m\u001b[37m\u001b[0m \u001b[1m27s\u001b[0m 76ms/step - accuracy: 0.1485 - loss: 13.4376 - val_accuracy: 0.1537 - val_loss: 2.1316\n",
      "Epoch 2/50\n",
      "\u001b[1m305/305\u001b[0m \u001b[32m━━━━━━━━━━━━━━━━━━━━\u001b[0m\u001b[37m\u001b[0m \u001b[1m1s\u001b[0m 4ms/step - accuracy: 0.1541 - loss: 2.1422 - val_accuracy: 0.1533 - val_loss: 2.0893\n",
      "Epoch 3/50\n",
      "\u001b[1m305/305\u001b[0m \u001b[32m━━━━━━━━━━━━━━━━━━━━\u001b[0m\u001b[37m\u001b[0m \u001b[1m1s\u001b[0m 4ms/step - accuracy: 0.1489 - loss: 2.0974 - val_accuracy: 0.1537 - val_loss: 2.0673\n",
      "Epoch 4/50\n",
      "\u001b[1m305/305\u001b[0m \u001b[32m━━━━━━━━━━━━━━━━━━━━\u001b[0m\u001b[37m\u001b[0m \u001b[1m1s\u001b[0m 4ms/step - accuracy: 0.1462 - loss: 2.0660 - val_accuracy: 0.1554 - val_loss: 1.9577\n",
      "Epoch 5/50\n",
      "\u001b[1m305/305\u001b[0m \u001b[32m━━━━━━━━━━━━━━━━━━━━\u001b[0m\u001b[37m\u001b[0m \u001b[1m1s\u001b[0m 4ms/step - accuracy: 0.1600 - loss: 2.0002 - val_accuracy: 0.1915 - val_loss: 1.9448\n",
      "Epoch 6/50\n",
      "\u001b[1m305/305\u001b[0m \u001b[32m━━━━━━━━━━━━━━━━━━━━\u001b[0m\u001b[37m\u001b[0m \u001b[1m1s\u001b[0m 4ms/step - accuracy: 0.1785 - loss: 1.9876 - val_accuracy: 0.2219 - val_loss: 1.9398\n",
      "Epoch 7/50\n",
      "\u001b[1m305/305\u001b[0m \u001b[32m━━━━━━━━━━━━━━━━━━━━\u001b[0m\u001b[37m\u001b[0m \u001b[1m1s\u001b[0m 4ms/step - accuracy: 0.1903 - loss: 1.9884 - val_accuracy: 0.2191 - val_loss: 1.9049\n",
      "Epoch 8/50\n",
      "\u001b[1m305/305\u001b[0m \u001b[32m━━━━━━━━━━━━━━━━━━━━\u001b[0m\u001b[37m\u001b[0m \u001b[1m1s\u001b[0m 4ms/step - accuracy: 0.1856 - loss: 1.9584 - val_accuracy: 0.2158 - val_loss: 1.8696\n",
      "Epoch 9/50\n",
      "\u001b[1m305/305\u001b[0m \u001b[32m━━━━━━━━━━━━━━━━━━━━\u001b[0m\u001b[37m\u001b[0m \u001b[1m1s\u001b[0m 4ms/step - accuracy: 0.2093 - loss: 1.9157 - val_accuracy: 0.2540 - val_loss: 1.7888\n",
      "Epoch 10/50\n",
      "\u001b[1m305/305\u001b[0m \u001b[32m━━━━━━━━━━━━━━━━━━━━\u001b[0m\u001b[37m\u001b[0m \u001b[1m1s\u001b[0m 4ms/step - accuracy: 0.2226 - loss: 1.8682 - val_accuracy: 0.3005 - val_loss: 1.7661\n",
      "Epoch 11/50\n",
      "\u001b[1m305/305\u001b[0m \u001b[32m━━━━━━━━━━━━━━━━━━━━\u001b[0m\u001b[37m\u001b[0m \u001b[1m1s\u001b[0m 4ms/step - accuracy: 0.2435 - loss: 1.8447 - val_accuracy: 0.3210 - val_loss: 1.6994\n",
      "Epoch 12/50\n",
      "\u001b[1m305/305\u001b[0m \u001b[32m━━━━━━━━━━━━━━━━━━━━\u001b[0m\u001b[37m\u001b[0m \u001b[1m1s\u001b[0m 4ms/step - accuracy: 0.2584 - loss: 1.8116 - val_accuracy: 0.3317 - val_loss: 1.6507\n",
      "Epoch 13/50\n",
      "\u001b[1m305/305\u001b[0m \u001b[32m━━━━━━━━━━━━━━━━━━━━\u001b[0m\u001b[37m\u001b[0m \u001b[1m1s\u001b[0m 4ms/step - accuracy: 0.2717 - loss: 1.7768 - val_accuracy: 0.3391 - val_loss: 1.5975\n",
      "Epoch 14/50\n",
      "\u001b[1m305/305\u001b[0m \u001b[32m━━━━━━━━━━━━━━━━━━━━\u001b[0m\u001b[37m\u001b[0m \u001b[1m1s\u001b[0m 4ms/step - accuracy: 0.2870 - loss: 1.7331 - val_accuracy: 0.3732 - val_loss: 1.5534\n",
      "Epoch 15/50\n",
      "\u001b[1m305/305\u001b[0m \u001b[32m━━━━━━━━━━━━━━━━━━━━\u001b[0m\u001b[37m\u001b[0m \u001b[1m1s\u001b[0m 4ms/step - accuracy: 0.3160 - loss: 1.6462 - val_accuracy: 0.4225 - val_loss: 1.4443\n",
      "Epoch 16/50\n",
      "\u001b[1m305/305\u001b[0m \u001b[32m━━━━━━━━━━━━━━━━━━━━\u001b[0m\u001b[37m\u001b[0m \u001b[1m3s\u001b[0m 4ms/step - accuracy: 0.3779 - loss: 1.5439 - val_accuracy: 0.4583 - val_loss: 1.3007\n",
      "Epoch 17/50\n",
      "\u001b[1m305/305\u001b[0m \u001b[32m━━━━━━━━━━━━━━━━━━━━\u001b[0m\u001b[37m\u001b[0m \u001b[1m1s\u001b[0m 4ms/step - accuracy: 0.4228 - loss: 1.4026 - val_accuracy: 0.4764 - val_loss: 1.2835\n",
      "Epoch 18/50\n",
      "\u001b[1m305/305\u001b[0m \u001b[32m━━━━━━━━━━━━━━━━━━━━\u001b[0m\u001b[37m\u001b[0m \u001b[1m1s\u001b[0m 4ms/step - accuracy: 0.4510 - loss: 1.3325 - val_accuracy: 0.4784 - val_loss: 1.2594\n",
      "Epoch 19/50\n",
      "\u001b[1m305/305\u001b[0m \u001b[32m━━━━━━━━━━━━━━━━━━━━\u001b[0m\u001b[37m\u001b[0m \u001b[1m2s\u001b[0m 4ms/step - accuracy: 0.4712 - loss: 1.2976 - val_accuracy: 0.4899 - val_loss: 1.2253\n",
      "Epoch 20/50\n",
      "\u001b[1m305/305\u001b[0m \u001b[32m━━━━━━━━━━━━━━━━━━━━\u001b[0m\u001b[37m\u001b[0m \u001b[1m1s\u001b[0m 4ms/step - accuracy: 0.4685 - loss: 1.2692 - val_accuracy: 0.4788 - val_loss: 1.2380\n",
      "Epoch 21/50\n",
      "\u001b[1m305/305\u001b[0m \u001b[32m━━━━━━━━━━━━━━━━━━━━\u001b[0m\u001b[37m\u001b[0m \u001b[1m1s\u001b[0m 4ms/step - accuracy: 0.4676 - loss: 1.2797 - val_accuracy: 0.4883 - val_loss: 1.2150\n",
      "Epoch 22/50\n",
      "\u001b[1m305/305\u001b[0m \u001b[32m━━━━━━━━━━━━━━━━━━━━\u001b[0m\u001b[37m\u001b[0m \u001b[1m1s\u001b[0m 4ms/step - accuracy: 0.4876 - loss: 1.2499 - val_accuracy: 0.5084 - val_loss: 1.1833\n",
      "Epoch 23/50\n",
      "\u001b[1m305/305\u001b[0m \u001b[32m━━━━━━━━━━━━━━━━━━━━\u001b[0m\u001b[37m\u001b[0m \u001b[1m1s\u001b[0m 4ms/step - accuracy: 0.4899 - loss: 1.2307 - val_accuracy: 0.5117 - val_loss: 1.1672\n",
      "Epoch 24/50\n",
      "\u001b[1m305/305\u001b[0m \u001b[32m━━━━━━━━━━━━━━━━━━━━\u001b[0m\u001b[37m\u001b[0m \u001b[1m1s\u001b[0m 4ms/step - accuracy: 0.4965 - loss: 1.2165 - val_accuracy: 0.5014 - val_loss: 1.1808\n",
      "Epoch 25/50\n",
      "\u001b[1m305/305\u001b[0m \u001b[32m━━━━━━━━━━━━━━━━━━━━\u001b[0m\u001b[37m\u001b[0m \u001b[1m1s\u001b[0m 4ms/step - accuracy: 0.4904 - loss: 1.2170 - val_accuracy: 0.5084 - val_loss: 1.1601\n",
      "Epoch 26/50\n",
      "\u001b[1m305/305\u001b[0m \u001b[32m━━━━━━━━━━━━━━━━━━━━\u001b[0m\u001b[37m\u001b[0m \u001b[1m1s\u001b[0m 4ms/step - accuracy: 0.5063 - loss: 1.2025 - val_accuracy: 0.4990 - val_loss: 1.1719\n",
      "Epoch 27/50\n",
      "\u001b[1m305/305\u001b[0m \u001b[32m━━━━━━━━━━━━━━━━━━━━\u001b[0m\u001b[37m\u001b[0m \u001b[1m1s\u001b[0m 4ms/step - accuracy: 0.5103 - loss: 1.2007 - val_accuracy: 0.5121 - val_loss: 1.1603\n",
      "Epoch 28/50\n",
      "\u001b[1m305/305\u001b[0m \u001b[32m━━━━━━━━━━━━━━━━━━━━\u001b[0m\u001b[37m\u001b[0m \u001b[1m1s\u001b[0m 4ms/step - accuracy: 0.5080 - loss: 1.1922 - val_accuracy: 0.5212 - val_loss: 1.1505\n",
      "Epoch 29/50\n",
      "\u001b[1m305/305\u001b[0m \u001b[32m━━━━━━━━━━━━━━━━━━━━\u001b[0m\u001b[37m\u001b[0m \u001b[1m1s\u001b[0m 4ms/step - accuracy: 0.4990 - loss: 1.2083 - val_accuracy: 0.5224 - val_loss: 1.1510\n",
      "Epoch 30/50\n",
      "\u001b[1m305/305\u001b[0m \u001b[32m━━━━━━━━━━━━━━━━━━━━\u001b[0m\u001b[37m\u001b[0m \u001b[1m1s\u001b[0m 4ms/step - accuracy: 0.5106 - loss: 1.1890 - val_accuracy: 0.5199 - val_loss: 1.1509\n",
      "Epoch 31/50\n",
      "\u001b[1m305/305\u001b[0m \u001b[32m━━━━━━━━━━━━━━━━━━━━\u001b[0m\u001b[37m\u001b[0m \u001b[1m1s\u001b[0m 4ms/step - accuracy: 0.5109 - loss: 1.1858 - val_accuracy: 0.5232 - val_loss: 1.1379\n",
      "Epoch 32/50\n",
      "\u001b[1m305/305\u001b[0m \u001b[32m━━━━━━━━━━━━━━━━━━━━\u001b[0m\u001b[37m\u001b[0m \u001b[1m1s\u001b[0m 4ms/step - accuracy: 0.5196 - loss: 1.1660 - val_accuracy: 0.5310 - val_loss: 1.1267\n",
      "Epoch 33/50\n",
      "\u001b[1m305/305\u001b[0m \u001b[32m━━━━━━━━━━━━━━━━━━━━\u001b[0m\u001b[37m\u001b[0m \u001b[1m1s\u001b[0m 4ms/step - accuracy: 0.5161 - loss: 1.1685 - val_accuracy: 0.5191 - val_loss: 1.1341\n",
      "Epoch 34/50\n",
      "\u001b[1m305/305\u001b[0m \u001b[32m━━━━━━━━━━━━━━━━━━━━\u001b[0m\u001b[37m\u001b[0m \u001b[1m1s\u001b[0m 4ms/step - accuracy: 0.5161 - loss: 1.1758 - val_accuracy: 0.5310 - val_loss: 1.1314\n",
      "Epoch 35/50\n",
      "\u001b[1m305/305\u001b[0m \u001b[32m━━━━━━━━━━━━━━━━━━━━\u001b[0m\u001b[37m\u001b[0m \u001b[1m1s\u001b[0m 4ms/step - accuracy: 0.5202 - loss: 1.1592 - val_accuracy: 0.5372 - val_loss: 1.1282\n",
      "Epoch 36/50\n",
      "\u001b[1m305/305\u001b[0m \u001b[32m━━━━━━━━━━━━━━━━━━━━\u001b[0m\u001b[37m\u001b[0m \u001b[1m1s\u001b[0m 4ms/step - accuracy: 0.5135 - loss: 1.1748 - val_accuracy: 0.5343 - val_loss: 1.1251\n",
      "Epoch 37/50\n",
      "\u001b[1m305/305\u001b[0m \u001b[32m━━━━━━━━━━━━━━━━━━━━\u001b[0m\u001b[37m\u001b[0m \u001b[1m1s\u001b[0m 4ms/step - accuracy: 0.5160 - loss: 1.1631 - val_accuracy: 0.5302 - val_loss: 1.1419\n",
      "Epoch 38/50\n",
      "\u001b[1m305/305\u001b[0m \u001b[32m━━━━━━━━━━━━━━━━━━━━\u001b[0m\u001b[37m\u001b[0m \u001b[1m1s\u001b[0m 4ms/step - accuracy: 0.5057 - loss: 1.1759 - val_accuracy: 0.5265 - val_loss: 1.1240\n",
      "Epoch 39/50\n",
      "\u001b[1m305/305\u001b[0m \u001b[32m━━━━━━━━━━━━━━━━━━━━\u001b[0m\u001b[37m\u001b[0m \u001b[1m1s\u001b[0m 4ms/step - accuracy: 0.5259 - loss: 1.1545 - val_accuracy: 0.5319 - val_loss: 1.1305\n",
      "Epoch 40/50\n",
      "\u001b[1m305/305\u001b[0m \u001b[32m━━━━━━━━━━━━━━━━━━━━\u001b[0m\u001b[37m\u001b[0m \u001b[1m1s\u001b[0m 4ms/step - accuracy: 0.5280 - loss: 1.1434 - val_accuracy: 0.5269 - val_loss: 1.1289\n",
      "Epoch 41/50\n",
      "\u001b[1m305/305\u001b[0m \u001b[32m━━━━━━━━━━━━━━━━━━━━\u001b[0m\u001b[37m\u001b[0m \u001b[1m3s\u001b[0m 4ms/step - accuracy: 0.5292 - loss: 1.1491 - val_accuracy: 0.5446 - val_loss: 1.1130\n",
      "Epoch 42/50\n",
      "\u001b[1m305/305\u001b[0m \u001b[32m━━━━━━━━━━━━━━━━━━━━\u001b[0m\u001b[37m\u001b[0m \u001b[1m1s\u001b[0m 4ms/step - accuracy: 0.5395 - loss: 1.1352 - val_accuracy: 0.5384 - val_loss: 1.1184\n",
      "Epoch 43/50\n",
      "\u001b[1m305/305\u001b[0m \u001b[32m━━━━━━━━━━━━━━━━━━━━\u001b[0m\u001b[37m\u001b[0m \u001b[1m1s\u001b[0m 4ms/step - accuracy: 0.5338 - loss: 1.1395 - val_accuracy: 0.5409 - val_loss: 1.1193\n",
      "Epoch 44/50\n",
      "\u001b[1m305/305\u001b[0m \u001b[32m━━━━━━━━━━━━━━━━━━━━\u001b[0m\u001b[37m\u001b[0m \u001b[1m1s\u001b[0m 4ms/step - accuracy: 0.5376 - loss: 1.1211 - val_accuracy: 0.5343 - val_loss: 1.1112\n",
      "Epoch 45/50\n",
      "\u001b[1m305/305\u001b[0m \u001b[32m━━━━━━━━━━━━━━━━━━━━\u001b[0m\u001b[37m\u001b[0m \u001b[1m1s\u001b[0m 4ms/step - accuracy: 0.5318 - loss: 1.1263 - val_accuracy: 0.5368 - val_loss: 1.1184\n",
      "Epoch 46/50\n",
      "\u001b[1m305/305\u001b[0m \u001b[32m━━━━━━━━━━━━━━━━━━━━\u001b[0m\u001b[37m\u001b[0m \u001b[1m1s\u001b[0m 4ms/step - accuracy: 0.5451 - loss: 1.1157 - val_accuracy: 0.5290 - val_loss: 1.1088\n",
      "Epoch 47/50\n",
      "\u001b[1m305/305\u001b[0m \u001b[32m━━━━━━━━━━━━━━━━━━━━\u001b[0m\u001b[37m\u001b[0m \u001b[1m1s\u001b[0m 4ms/step - accuracy: 0.5461 - loss: 1.1168 - val_accuracy: 0.5356 - val_loss: 1.1071\n",
      "Epoch 48/50\n",
      "\u001b[1m305/305\u001b[0m \u001b[32m━━━━━━━━━━━━━━━━━━━━\u001b[0m\u001b[37m\u001b[0m \u001b[1m1s\u001b[0m 4ms/step - accuracy: 0.5382 - loss: 1.1383 - val_accuracy: 0.5166 - val_loss: 1.1303\n",
      "Epoch 49/50\n",
      "\u001b[1m305/305\u001b[0m \u001b[32m━━━━━━━━━━━━━━━━━━━━\u001b[0m\u001b[37m\u001b[0m \u001b[1m1s\u001b[0m 4ms/step - accuracy: 0.5371 - loss: 1.1311 - val_accuracy: 0.5454 - val_loss: 1.1052\n",
      "Epoch 50/50\n",
      "\u001b[1m305/305\u001b[0m \u001b[32m━━━━━━━━━━━━━━━━━━━━\u001b[0m\u001b[37m\u001b[0m \u001b[1m1s\u001b[0m 4ms/step - accuracy: 0.5369 - loss: 1.1357 - val_accuracy: 0.5438 - val_loss: 1.0991\n"
     ]
    },
    {
     "name": "stderr",
     "output_type": "stream",
     "text": [
      "WARNING:absl:You are saving your model as an HDF5 file via `model.save()` or `keras.saving.save_model(model)`. This file format is considered legacy. We recommend using instead the native Keras format, e.g. `model.save('my_model.keras')` or `keras.saving.save_model(model, 'my_model.keras')`. \n"
     ]
    },
    {
     "name": "stdout",
     "output_type": "stream",
     "text": [
      "Model saved as emotion_model.h5\n"
     ]
    }
   ],
   "source": [
    "from sklearn.model_selection import train_test_split\n",
    "from sklearn.preprocessing import LabelEncoder\n",
    "from tensorflow.keras.models import Sequential\n",
    "from tensorflow.keras.layers import Dense, Dropout\n",
    "import numpy as np\n",
    "import pandas as pd\n",
    "\n",
    "# Load data\n",
    "df = pd.read_pickle('emotion_features.pkl')\n",
    "X = np.array(df['features'].tolist())\n",
    "y = np.array(df['emotion'])\n",
    "\n",
    "# Encode labels\n",
    "encoder = LabelEncoder()\n",
    "y_encoded = encoder.fit_transform(y)\n",
    "np.save('classes.npy', encoder.classes_)\n",
    "\n",
    "# Train-test split\n",
    "X_train, X_test, y_train, y_test = train_test_split(X, y_encoded, test_size=0.2, random_state=42)\n",
    "\n",
    "# Build a simple neural network model\n",
    "model = Sequential([\n",
    "    Dense(256, activation='relu', input_shape=(X_train.shape[1],)),\n",
    "    Dropout(0.3),\n",
    "    Dense(128, activation='relu'),\n",
    "    Dropout(0.3),\n",
    "    Dense(len(encoder.classes_), activation='softmax')\n",
    "])\n",
    "\n",
    "model.compile(optimizer='adam', loss='sparse_categorical_crossentropy', metrics=['accuracy'])\n",
    "\n",
    "# Train the model\n",
    "model.fit(X_train, y_train, epochs=50, batch_size=32, validation_data=(X_test, y_test))\n",
    "\n",
    "# Save the model\n",
    "model.save('emotion_model.h5')\n",
    "print(\"Model saved as emotion_model.h5\")\n"
   ]
  },
  {
   "cell_type": "code",
   "execution_count": 23,
   "id": "b55c675b-1b0d-4878-a492-0f731cdebada",
   "metadata": {
    "scrolled": true
   },
   "outputs": [
    {
     "name": "stdout",
     "output_type": "stream",
     "text": [
      "Cleaned data: emotion\n",
      "happy        1863\n",
      "sad          1863\n",
      "angry        1863\n",
      "fearful      1863\n",
      "disgust      1863\n",
      "neutral      1583\n",
      "surprised     592\n",
      "calm          192\n",
      "Name: count, dtype: int64\n",
      "Model accuracy: 60.08%\n"
     ]
    }
   ],
   "source": [
    "import pickle\n",
    "import pandas as pd\n",
    "import numpy as np\n",
    "from sklearn.model_selection import train_test_split\n",
    "from sklearn.ensemble import RandomForestClassifier\n",
    "from sklearn.metrics import accuracy_score\n",
    "\n",
    "# Load the preprocessed data\n",
    "df = pd.read_pickle('emotion_features.pkl')\n",
    "\n",
    "# Check for any missing or invalid emotion labels and clean the data\n",
    "df = df.dropna(subset=['emotion'])  # Drop rows where the emotion is NaN\n",
    "df = df[df['emotion'].notnull()]  # Ensure no None or NaN values in emotion column\n",
    "\n",
    "# Optionally, print the cleaned data to verify\n",
    "print(f\"Cleaned data: {df['emotion'].value_counts()}\")\n",
    "\n",
    "# Split features (X) and labels (y)\n",
    "X = np.array(df['features'].tolist())  # Extract features from the dataframe\n",
    "y = df['emotion']  # Extract corresponding labels\n",
    "\n",
    "# Split the data into training and test sets\n",
    "X_train, X_test, y_train, y_test = train_test_split(X, y, test_size=0.2, random_state=42)\n",
    "\n",
    "# Train the model (e.g., Random Forest)\n",
    "model = RandomForestClassifier(n_estimators=100)\n",
    "model.fit(X_train, y_train)\n",
    "\n",
    "# Predict on the test set\n",
    "y_pred = model.predict(X_test)\n",
    "\n",
    "# Calculate the accuracy\n",
    "accuracy = accuracy_score(y_test, y_pred)\n",
    "print(f\"Model accuracy: {accuracy * 100:.2f}%\")\n",
    "\n",
    "# Save the trained model\n",
    "with open('emotion_model.pkl', 'wb') as file:\n",
    "    pickle.dump(model, file)\n"
   ]
  },
  {
   "cell_type": "code",
   "execution_count": 24,
   "id": "e7b65a30-e822-4a74-95ce-b88889d0c141",
   "metadata": {},
   "outputs": [
    {
     "name": "stdout",
     "output_type": "stream",
     "text": [
      "The predicted emotion is: happy\n"
     ]
    }
   ],
   "source": [
    "import pickle\n",
    "import librosa\n",
    "import numpy as np\n",
    "\n",
    "# Function to extract MFCC features\n",
    "def extract_features(file_path, sr=22050, n_mfcc=40):\n",
    "    try:\n",
    "        audio, sample_rate = librosa.load(file_path, sr=sr)\n",
    "        mfcc = librosa.feature.mfcc(y=audio, sr=sample_rate, n_mfcc=n_mfcc)\n",
    "        mfcc_scaled = np.mean(mfcc.T, axis=0)\n",
    "        return mfcc_scaled\n",
    "    except Exception as e:\n",
    "        print(f\"Error extracting features from {file_path}: {e}\")\n",
    "        return None\n",
    "\n",
    "# Load the trained model\n",
    "with open('emotion_model.pkl', 'rb') as file:\n",
    "    model = pickle.load(file)\n",
    "\n",
    "# Function to predict emotion for a given audio file\n",
    "def predict_emotion(file_path):\n",
    "    features = extract_features(file_path)\n",
    "    if features is not None:\n",
    "        # Reshape the features to match the model input shape (1, n_features)\n",
    "        features = features.reshape(1, -1)\n",
    "        # Predict the emotion\n",
    "        emotion = model.predict(features)\n",
    "        return emotion[0]  # Return the predicted emotion\n",
    "    else:\n",
    "        return \"Error extracting features\"\n",
    "\n",
    "# Test with a sample file\n",
    "file_path = \"C:/Users/chandu/Documents/Major project/03-01-03-01-02-02-01happy.wav\"  \n",
    "predicted_emotion = predict_emotion(file_path)\n",
    "print(f\"The predicted emotion is: {predicted_emotion}\")\n"
   ]
  },
  {
   "cell_type": "code",
   "execution_count": 25,
   "id": "6f2b3835-de7f-46ba-8277-d8615a516468",
   "metadata": {},
   "outputs": [
    {
     "name": "stdout",
     "output_type": "stream",
     "text": [
      "The predicted emotion is: fearful\n"
     ]
    }
   ],
   "source": [
    "file_path = \"C:/Users/chandu/Documents/MAJOR/03-01-06-01-01-01-01.wav\"\n",
    "predicted_emotion = predict_emotion(file_path)\n",
    "print(f\"The predicted emotion is: {predicted_emotion}\")"
   ]
  },
  {
   "cell_type": "code",
   "execution_count": 26,
   "id": "20e121e6-f00c-4876-ba62-2b5a1b012898",
   "metadata": {},
   "outputs": [
    {
     "name": "stdout",
     "output_type": "stream",
     "text": [
      "The predicted emotion is: angry\n"
     ]
    }
   ],
   "source": [
    "file_path = \"C:/Users/chandu/Documents/MAJOR/03-01-05-01-01-01-01.wav\"\n",
    "predicted_emotion = predict_emotion(file_path)\n",
    "print(f\"The predicted emotion is: {predicted_emotion}\")"
   ]
  },
  {
   "cell_type": "code",
   "execution_count": 27,
   "id": "9ff54526-24f4-4f3b-b764-e7efb6bfbbda",
   "metadata": {},
   "outputs": [
    {
     "name": "stdout",
     "output_type": "stream",
     "text": [
      "The predicted emotion is: surprised\n"
     ]
    }
   ],
   "source": [
    "file_path = \"C:/Users/chandu/Documents/MAJOR/03-01-08-01-01-01-01.wav\"\n",
    "predicted_emotion = predict_emotion(file_path)\n",
    "print(f\"The predicted emotion is: {predicted_emotion}\")"
   ]
  },
  {
   "cell_type": "code",
   "execution_count": 28,
   "id": "7017f6e1-70bc-4fe4-b092-977789ae77d1",
   "metadata": {},
   "outputs": [
    {
     "name": "stdout",
     "output_type": "stream",
     "text": [
      "The predicted emotion is: sad\n"
     ]
    }
   ],
   "source": [
    "file_path = \"C:/Users/chandu/Documents/Major project/03-01-04-01-01-01-01sad.wav\"  \n",
    "predicted_emotion = predict_emotion(file_path)\n",
    "print(f\"The predicted emotion is: {predicted_emotion}\")"
   ]
  },
  {
   "cell_type": "code",
   "execution_count": null,
   "id": "f7e5b3bd-f803-4d5a-8e20-00b1efbb9e91",
   "metadata": {},
   "outputs": [],
   "source": []
  },
  {
   "cell_type": "code",
   "execution_count": null,
   "id": "bf420a54-2daa-402e-84fa-44d48d61ee15",
   "metadata": {},
   "outputs": [],
   "source": []
  },
  {
   "cell_type": "code",
   "execution_count": 34,
   "id": "3dd08cff-f24a-4981-b3c2-fec372b2910d",
   "metadata": {},
   "outputs": [],
   "source": []
  },
  {
   "cell_type": "code",
   "execution_count": null,
   "id": "85872654-247b-47ac-a7b9-0b071f842de8",
   "metadata": {},
   "outputs": [],
   "source": []
  },
  {
   "cell_type": "code",
   "execution_count": null,
   "id": "650a774e-3d07-4d76-99d1-1fa0e501b98a",
   "metadata": {},
   "outputs": [],
   "source": []
  },
  {
   "cell_type": "code",
   "execution_count": null,
   "id": "b764ab18-4c96-4d8e-b06c-6d4dac20c8ef",
   "metadata": {},
   "outputs": [],
   "source": []
  },
  {
   "cell_type": "code",
   "execution_count": null,
   "id": "a3acaa38-3ede-467f-8cd2-726528f9825e",
   "metadata": {},
   "outputs": [],
   "source": []
  },
  {
   "cell_type": "code",
   "execution_count": null,
   "id": "b2f35964-ea15-43aa-8ae2-2d37fe003bae",
   "metadata": {},
   "outputs": [],
   "source": []
  },
  {
   "cell_type": "code",
   "execution_count": null,
   "id": "262dacbd-8ba4-414b-a562-3994ee55d723",
   "metadata": {},
   "outputs": [],
   "source": []
  },
  {
   "cell_type": "code",
   "execution_count": null,
   "id": "fa23c000-abee-41c7-b53f-473ebddc03e2",
   "metadata": {},
   "outputs": [],
   "source": []
  },
  {
   "cell_type": "code",
   "execution_count": null,
   "id": "c0d1768a-157f-4d90-9ae8-865c537c804d",
   "metadata": {},
   "outputs": [],
   "source": []
  },
  {
   "cell_type": "code",
   "execution_count": null,
   "id": "1cec333d-d217-4062-9eed-63716506fb4a",
   "metadata": {},
   "outputs": [],
   "source": []
  },
  {
   "cell_type": "code",
   "execution_count": null,
   "id": "f674c397-1bed-40c3-95af-9c456e21a7b3",
   "metadata": {},
   "outputs": [],
   "source": []
  },
  {
   "cell_type": "code",
   "execution_count": null,
   "id": "3d8c4605-07aa-4738-b30f-b4d0c5bd2c1e",
   "metadata": {},
   "outputs": [],
   "source": []
  },
  {
   "cell_type": "code",
   "execution_count": null,
   "id": "65839614-7ade-4f76-a576-173b2271f317",
   "metadata": {},
   "outputs": [],
   "source": []
  },
  {
   "cell_type": "code",
   "execution_count": null,
   "id": "25399cf7-482d-45fc-b048-6157cf63b17f",
   "metadata": {},
   "outputs": [],
   "source": []
  },
  {
   "cell_type": "code",
   "execution_count": null,
   "id": "9eeeb9da-634b-4dc1-b344-4f06e2e90284",
   "metadata": {},
   "outputs": [],
   "source": []
  },
  {
   "cell_type": "code",
   "execution_count": null,
   "id": "dc36b277-32a2-4f2e-87a7-84cd63c82b90",
   "metadata": {},
   "outputs": [],
   "source": []
  },
  {
   "cell_type": "code",
   "execution_count": null,
   "id": "2aa10cb8-b0b3-4fa0-aeab-36513cfb6c42",
   "metadata": {},
   "outputs": [],
   "source": []
  },
  {
   "cell_type": "code",
   "execution_count": null,
   "id": "631f4bab-4bc8-432e-8b05-4530b265df64",
   "metadata": {},
   "outputs": [],
   "source": []
  },
  {
   "cell_type": "code",
   "execution_count": 10,
   "id": "e03c92de-c6d7-4d80-bf92-fb0bbe2fd5b9",
   "metadata": {},
   "outputs": [],
   "source": [
    "import pickle\n",
    "from sklearn.ensemble import RandomForestClassifier\n",
    "\n",
    "# Assume X_train and y_train are your features and labels\n",
    "model = RandomForestClassifier(n_estimators=100)\n",
    "model.fit(X_train, y_train)\n",
    "\n",
    "# Save the trained model\n",
    "with open('emotion_model.pkl', 'wb') as file:\n",
    "    pickle.dump(model, file)\n"
   ]
  },
  {
   "cell_type": "code",
   "execution_count": 11,
   "id": "98bee561-e75f-4b1e-a421-56185375a8ce",
   "metadata": {},
   "outputs": [
    {
     "data": {
      "text/plain": [
       "['emotion_model.joblib']"
      ]
     },
     "execution_count": 11,
     "metadata": {},
     "output_type": "execute_result"
    }
   ],
   "source": [
    "import joblib\n",
    "joblib.dump(model, 'emotion_model.joblib')\n"
   ]
  },
  {
   "cell_type": "code",
   "execution_count": 12,
   "id": "64cba593-6e75-4125-912f-3175d91b2462",
   "metadata": {},
   "outputs": [],
   "source": [
    "import joblib\n",
    "model = joblib.load('emotion_model.joblib')\n"
   ]
  },
  {
   "cell_type": "code",
   "execution_count": 13,
   "id": "5bde6b8b-f43d-4907-b5e8-cf2ad7c17ae5",
   "metadata": {},
   "outputs": [
    {
     "data": {
      "text/plain": [
       "['emotion_model.joblib']"
      ]
     },
     "execution_count": 13,
     "metadata": {},
     "output_type": "execute_result"
    }
   ],
   "source": [
    "import pickle\n",
    "from sklearn.ensemble import RandomForestClassifier\n",
    "from sklearn.model_selection import train_test_split\n",
    "import numpy as np\n",
    "\n",
    "# Load your dataset (replace with your actual data)\n",
    "# Example:\n",
    "X = np.array(df['features'].tolist())  # Extract features from the dataframe\n",
    "y = df['emotion']  # Extract corresponding labels\n",
    "\n",
    "# Split the data into training and testing sets\n",
    "X_train, X_test, y_train, y_test = train_test_split(X, y, test_size=0.2, random_state=42)\n",
    "\n",
    "# Train the model\n",
    "model = RandomForestClassifier(n_estimators=100)\n",
    "model.fit(X_train, y_train)\n",
    "\n",
    "# Save the trained model using joblib\n",
    "import joblib\n",
    "joblib.dump(model, 'emotion_model.joblib')\n"
   ]
  },
  {
   "cell_type": "code",
   "execution_count": 14,
   "id": "16936f72-d8e6-473c-ba02-ed6983747d54",
   "metadata": {},
   "outputs": [],
   "source": [
    "import joblib\n",
    "\n",
    "# Load the trained model\n",
    "model = joblib.load('emotion_model.joblib')\n"
   ]
  },
  {
   "cell_type": "code",
   "execution_count": 15,
   "id": "55055061-9457-4585-b20f-7c4c917fe882",
   "metadata": {},
   "outputs": [
    {
     "data": {
      "text/plain": [
       "['emotion_model.joblib']"
      ]
     },
     "execution_count": 15,
     "metadata": {},
     "output_type": "execute_result"
    }
   ],
   "source": [
    "from sklearn.tree import DecisionTreeClassifier\n",
    "import joblib\n",
    "\n",
    "# Load your training data\n",
    "\n",
    "X = np.array(df['features'].tolist())  # Extract features from the dataframe\n",
    "y = df['emotion']  # Extract corresponding labels\n",
    "\n",
    "# Initialize and train the model\n",
    "model = DecisionTreeClassifier()\n",
    "model.fit(X_train, y_train)\n",
    "\n",
    "# Save the model with joblib\n",
    "joblib.dump(model, 'emotion_model.joblib')\n"
   ]
  },
  {
   "cell_type": "code",
   "execution_count": 16,
   "id": "4ef30de5-9b0d-4dab-b65b-a54c41d78c6b",
   "metadata": {},
   "outputs": [],
   "source": [
    "import joblib\n",
    "\n",
    "# Load the trained model using joblib\n",
    "model = joblib.load('emotion_model.joblib')\n"
   ]
  },
  {
   "cell_type": "code",
   "execution_count": 17,
   "id": "b729dfa3-ea40-441f-b897-337db8dc8765",
   "metadata": {},
   "outputs": [
    {
     "data": {
      "text/plain": [
       "['emotion_model.joblib']"
      ]
     },
     "execution_count": 17,
     "metadata": {},
     "output_type": "execute_result"
    }
   ],
   "source": [
    "from sklearn.tree import DecisionTreeClassifier\n",
    "import numpy as np\n",
    "import joblib\n",
    "import librosa\n",
    "\n",
    "# Sample feature extraction (replace this with your actual feature extraction code)\n",
    "def extract_features(file_path, sr=22050, n_mfcc=40):\n",
    "    try:\n",
    "        audio, sample_rate = librosa.load(file_path, sr=sr)\n",
    "        mfcc = librosa.feature.mfcc(y=audio, sr=sample_rate, n_mfcc=n_mfcc)\n",
    "        mfcc_scaled = np.mean(mfcc.T, axis=0)\n",
    "        return mfcc_scaled\n",
    "    except Exception as e:\n",
    "        print(f\"Error extracting features from {file_path}: {e}\")\n",
    "        return None\n",
    "\n",
    "# Sample training data (replace this with your actual data and labels)\n",
    "X_train = np.array([extract_features('C:/Users/chandu/Documents/Major project/03-01-04-01-01-01-01sad.wav')])  # Replace with your actual features\n",
    "y_train = np.array([0])  # Replace with your actual labels (e.g., emotion labels)\n",
    "\n",
    "# Initialize the model\n",
    "model = DecisionTreeClassifier()\n",
    "\n",
    "# Train the model\n",
    "model.fit(X_train, y_train)\n",
    "\n",
    "# Save the trained model\n",
    "joblib.dump(model, 'emotion_model.joblib')\n"
   ]
  },
  {
   "cell_type": "code",
   "execution_count": 18,
   "id": "f3ff414f-11fa-4d18-a73e-250f3690ae4f",
   "metadata": {},
   "outputs": [
    {
     "data": {
      "text/plain": [
       "['emotion_model.joblib']"
      ]
     },
     "execution_count": 18,
     "metadata": {},
     "output_type": "execute_result"
    }
   ],
   "source": [
    "from sklearn.tree import DecisionTreeClassifier\n",
    "import librosa\n",
    "import numpy as np\n",
    "import joblib\n",
    "\n",
    "# Feature extraction function\n",
    "def extract_features(file_path, sr=22050, n_mfcc=40):\n",
    "    try:\n",
    "        audio, sample_rate = librosa.load(file_path, sr=sr)\n",
    "        mfcc = librosa.feature.mfcc(y=audio, sr=sample_rate, n_mfcc=n_mfcc)\n",
    "        mfcc_scaled = np.mean(mfcc.T, axis=0)\n",
    "        return mfcc_scaled\n",
    "    except Exception as e:\n",
    "        print(f\"Error extracting features from {file_path}: {e}\")\n",
    "        return None\n",
    "\n",
    "# Sample training data (you should replace this with your actual data and labels)\n",
    "X_train = np.array([extract_features('C:/Users/chandu/Documents/Major project/03-01-04-01-01-01-01sad.wav')])  # Replace with your actual features\n",
    "y_train = np.array([0])\n",
    "\n",
    "# Initialize the model\n",
    "model = DecisionTreeClassifier()\n",
    "\n",
    "# Train the model\n",
    "model.fit(X_train, y_train)\n",
    "\n",
    "# Save the model\n",
    "joblib.dump(model, 'emotion_model.joblib')\n"
   ]
  },
  {
   "cell_type": "code",
   "execution_count": 21,
   "id": "37201967-ca41-434b-ab37-b42b0f07b1aa",
   "metadata": {
    "scrolled": true
   },
   "outputs": [
    {
     "data": {
      "text/plain": [
       "['emotion_model.joblib']"
      ]
     },
     "execution_count": 21,
     "metadata": {},
     "output_type": "execute_result"
    }
   ],
   "source": [
    "from sklearn.tree import DecisionTreeClassifier\n",
    "import librosa\n",
    "import numpy as np\n",
    "import joblib\n",
    "\n",
    "# Function to extract MFCC features\n",
    "def extract_features(file_path, sr=22050, n_mfcc=40):\n",
    "    try:\n",
    "        audio, sample_rate = librosa.load(file_path, sr=sr)\n",
    "        mfcc = librosa.feature.mfcc(y=audio, sr=sample_rate, n_mfcc=n_mfcc)\n",
    "        mfcc_scaled = np.mean(mfcc.T, axis=0)\n",
    "        return mfcc_scaled\n",
    "    except Exception as e:\n",
    "        print(f\"Error extracting features from {file_path}: {e}\")\n",
    "        return None\n",
    "\n",
    "# Example data (replace with your actual features and labels)\n",
    "  # Add actual labels (emotion classes)\n",
    "X_train = np.array([extract_features('C:/Users/chandu/Documents/Major project/03-01-04-01-01-01-01sad.wav')])  # Replace with your actual features\n",
    "y_train = np.array([0])\n",
    "\n",
    "# Initialize the model\n",
    "model = DecisionTreeClassifier()\n",
    "\n",
    "# Train the model\n",
    "model.fit(X_train, y_train)\n",
    "\n",
    "# Save the model\n",
    "joblib.dump(model, 'emotion_model.joblib')\n"
   ]
  },
  {
   "cell_type": "code",
   "execution_count": 22,
   "id": "c92885ab-8602-46f9-9951-23e82797961c",
   "metadata": {},
   "outputs": [
    {
     "name": "stdout",
     "output_type": "stream",
     "text": [
      "1.2.2\n"
     ]
    }
   ],
   "source": [
    "import sklearn\n",
    "print(sklearn.__version__)\n"
   ]
  },
  {
   "cell_type": "code",
   "execution_count": 23,
   "id": "739035b3-13bd-4517-b16b-c07bd76cf231",
   "metadata": {},
   "outputs": [
    {
     "name": "stdout",
     "output_type": "stream",
     "text": [
      "The predicted emotion is: 0\n"
     ]
    }
   ],
   "source": [
    "file_path = \"C:/Users/chandu/Documents/Major project/03-01-04-01-01-01-01sad.wav\"  \n",
    "predicted_emotion = predict_emotion(file_path)\n",
    "print(f\"The predicted emotion is: {predicted_emotion}\")"
   ]
  },
  {
   "cell_type": "code",
   "execution_count": 26,
   "id": "1a6238a4-6354-48a2-bb8f-ee2c4240a107",
   "metadata": {},
   "outputs": [],
   "source": [
    "import pickle\n",
    "\n",
    "# Save the model with pickle\n",
    "with open('emotion_model.pkl', 'wb') as file:\n",
    "    pickle.dump(model, file)\n",
    "\n",
    "# To load the model\n",
    "with open('emotion_model.pkl', 'rb') as file:\n",
    "    model = pickle.load(file)\n"
   ]
  },
  {
   "cell_type": "code",
   "execution_count": 27,
   "id": "fc844226-6e9f-4061-8190-307875938bb8",
   "metadata": {
    "scrolled": true
   },
   "outputs": [
    {
     "name": "stderr",
     "output_type": "stream",
     "text": [
      "C:\\Users\\chandu\\AppData\\Roaming\\Python\\Python311\\site-packages\\keras\\src\\layers\\core\\dense.py:87: UserWarning: Do not pass an `input_shape`/`input_dim` argument to a layer. When using Sequential models, prefer using an `Input(shape)` object as the first layer in the model instead.\n",
      "  super().__init__(activity_regularizer=activity_regularizer, **kwargs)\n"
     ]
    },
    {
     "name": "stdout",
     "output_type": "stream",
     "text": [
      "Epoch 1/50\n",
      "\u001b[1m305/305\u001b[0m \u001b[32m━━━━━━━━━━━━━━━━━━━━\u001b[0m\u001b[37m\u001b[0m \u001b[1m28s\u001b[0m 20ms/step - accuracy: 0.1345 - loss: 14.6437 - val_accuracy: 0.1640 - val_loss: 2.0680\n",
      "Epoch 2/50\n",
      "\u001b[1m305/305\u001b[0m \u001b[32m━━━━━━━━━━━━━━━━━━━━\u001b[0m\u001b[37m\u001b[0m \u001b[1m4s\u001b[0m 13ms/step - accuracy: 0.1554 - loss: 2.0664 - val_accuracy: 0.1632 - val_loss: 1.9490\n",
      "Epoch 3/50\n",
      "\u001b[1m305/305\u001b[0m \u001b[32m━━━━━━━━━━━━━━━━━━━━\u001b[0m\u001b[37m\u001b[0m \u001b[1m2s\u001b[0m 7ms/step - accuracy: 0.1541 - loss: 2.0164 - val_accuracy: 0.1648 - val_loss: 1.9436\n",
      "Epoch 4/50\n",
      "\u001b[1m305/305\u001b[0m \u001b[32m━━━━━━━━━━━━━━━━━━━━\u001b[0m\u001b[37m\u001b[0m \u001b[1m2s\u001b[0m 7ms/step - accuracy: 0.1745 - loss: 1.9913 - val_accuracy: 0.2273 - val_loss: 1.8837\n",
      "Epoch 5/50\n",
      "\u001b[1m305/305\u001b[0m \u001b[32m━━━━━━━━━━━━━━━━━━━━\u001b[0m\u001b[37m\u001b[0m \u001b[1m2s\u001b[0m 6ms/step - accuracy: 0.2040 - loss: 1.9305 - val_accuracy: 0.2659 - val_loss: 1.7665\n",
      "Epoch 6/50\n",
      "\u001b[1m305/305\u001b[0m \u001b[32m━━━━━━━━━━━━━━━━━━━━\u001b[0m\u001b[37m\u001b[0m \u001b[1m2s\u001b[0m 7ms/step - accuracy: 0.2220 - loss: 1.8765 - val_accuracy: 0.2922 - val_loss: 1.7520\n",
      "Epoch 7/50\n",
      "\u001b[1m305/305\u001b[0m \u001b[32m━━━━━━━━━━━━━━━━━━━━\u001b[0m\u001b[37m\u001b[0m \u001b[1m2s\u001b[0m 7ms/step - accuracy: 0.2490 - loss: 1.8320 - val_accuracy: 0.2873 - val_loss: 1.6980\n",
      "Epoch 8/50\n",
      "\u001b[1m305/305\u001b[0m \u001b[32m━━━━━━━━━━━━━━━━━━━━\u001b[0m\u001b[37m\u001b[0m \u001b[1m2s\u001b[0m 6ms/step - accuracy: 0.2524 - loss: 1.8047 - val_accuracy: 0.2820 - val_loss: 1.7007\n",
      "Epoch 9/50\n",
      "\u001b[1m305/305\u001b[0m \u001b[32m━━━━━━━━━━━━━━━━━━━━\u001b[0m\u001b[37m\u001b[0m \u001b[1m2s\u001b[0m 7ms/step - accuracy: 0.2731 - loss: 1.7791 - val_accuracy: 0.3428 - val_loss: 1.6035\n",
      "Epoch 10/50\n",
      "\u001b[1m305/305\u001b[0m \u001b[32m━━━━━━━━━━━━━━━━━━━━\u001b[0m\u001b[37m\u001b[0m \u001b[1m2s\u001b[0m 6ms/step - accuracy: 0.2972 - loss: 1.6973 - val_accuracy: 0.3527 - val_loss: 1.5357\n",
      "Epoch 11/50\n",
      "\u001b[1m305/305\u001b[0m \u001b[32m━━━━━━━━━━━━━━━━━━━━\u001b[0m\u001b[37m\u001b[0m \u001b[1m2s\u001b[0m 6ms/step - accuracy: 0.3299 - loss: 1.6641 - val_accuracy: 0.4069 - val_loss: 1.4444\n",
      "Epoch 12/50\n",
      "\u001b[1m305/305\u001b[0m \u001b[32m━━━━━━━━━━━━━━━━━━━━\u001b[0m\u001b[37m\u001b[0m \u001b[1m2s\u001b[0m 6ms/step - accuracy: 0.3711 - loss: 1.5490 - val_accuracy: 0.4258 - val_loss: 1.4253\n",
      "Epoch 13/50\n",
      "\u001b[1m305/305\u001b[0m \u001b[32m━━━━━━━━━━━━━━━━━━━━\u001b[0m\u001b[37m\u001b[0m \u001b[1m2s\u001b[0m 5ms/step - accuracy: 0.3956 - loss: 1.4959 - val_accuracy: 0.4480 - val_loss: 1.3592\n",
      "Epoch 14/50\n",
      "\u001b[1m305/305\u001b[0m \u001b[32m━━━━━━━━━━━━━━━━━━━━\u001b[0m\u001b[37m\u001b[0m \u001b[1m2s\u001b[0m 5ms/step - accuracy: 0.4267 - loss: 1.4005 - val_accuracy: 0.4603 - val_loss: 1.2839\n",
      "Epoch 15/50\n",
      "\u001b[1m305/305\u001b[0m \u001b[32m━━━━━━━━━━━━━━━━━━━━\u001b[0m\u001b[37m\u001b[0m \u001b[1m3s\u001b[0m 7ms/step - accuracy: 0.4535 - loss: 1.3329 - val_accuracy: 0.4797 - val_loss: 1.2595\n",
      "Epoch 16/50\n",
      "\u001b[1m305/305\u001b[0m \u001b[32m━━━━━━━━━━━━━━━━━━━━\u001b[0m\u001b[37m\u001b[0m \u001b[1m2s\u001b[0m 6ms/step - accuracy: 0.4343 - loss: 1.3675 - val_accuracy: 0.4805 - val_loss: 1.2412\n",
      "Epoch 17/50\n",
      "\u001b[1m305/305\u001b[0m \u001b[32m━━━━━━━━━━━━━━━━━━━━\u001b[0m\u001b[37m\u001b[0m \u001b[1m4s\u001b[0m 9ms/step - accuracy: 0.4413 - loss: 1.3356 - val_accuracy: 0.4723 - val_loss: 1.2318\n",
      "Epoch 18/50\n",
      "\u001b[1m305/305\u001b[0m \u001b[32m━━━━━━━━━━━━━━━━━━━━\u001b[0m\u001b[37m\u001b[0m \u001b[1m2s\u001b[0m 6ms/step - accuracy: 0.4705 - loss: 1.2737 - val_accuracy: 0.4994 - val_loss: 1.2086\n",
      "Epoch 19/50\n",
      "\u001b[1m305/305\u001b[0m \u001b[32m━━━━━━━━━━━━━━━━━━━━\u001b[0m\u001b[37m\u001b[0m \u001b[1m3s\u001b[0m 10ms/step - accuracy: 0.4713 - loss: 1.2768 - val_accuracy: 0.4846 - val_loss: 1.2186\n",
      "Epoch 20/50\n",
      "\u001b[1m305/305\u001b[0m \u001b[32m━━━━━━━━━━━━━━━━━━━━\u001b[0m\u001b[37m\u001b[0m \u001b[1m2s\u001b[0m 7ms/step - accuracy: 0.4696 - loss: 1.2877 - val_accuracy: 0.5068 - val_loss: 1.2011\n",
      "Epoch 21/50\n",
      "\u001b[1m305/305\u001b[0m \u001b[32m━━━━━━━━━━━━━━━━━━━━\u001b[0m\u001b[37m\u001b[0m \u001b[1m3s\u001b[0m 9ms/step - accuracy: 0.4762 - loss: 1.2508 - val_accuracy: 0.4936 - val_loss: 1.1935\n",
      "Epoch 22/50\n",
      "\u001b[1m305/305\u001b[0m \u001b[32m━━━━━━━━━━━━━━━━━━━━\u001b[0m\u001b[37m\u001b[0m \u001b[1m2s\u001b[0m 6ms/step - accuracy: 0.4865 - loss: 1.2315 - val_accuracy: 0.4994 - val_loss: 1.1913\n",
      "Epoch 23/50\n",
      "\u001b[1m305/305\u001b[0m \u001b[32m━━━━━━━━━━━━━━━━━━━━\u001b[0m\u001b[37m\u001b[0m \u001b[1m2s\u001b[0m 6ms/step - accuracy: 0.4864 - loss: 1.2320 - val_accuracy: 0.4916 - val_loss: 1.1927\n",
      "Epoch 24/50\n",
      "\u001b[1m305/305\u001b[0m \u001b[32m━━━━━━━━━━━━━━━━━━━━\u001b[0m\u001b[37m\u001b[0m \u001b[1m2s\u001b[0m 6ms/step - accuracy: 0.4927 - loss: 1.2261 - val_accuracy: 0.5006 - val_loss: 1.1772\n",
      "Epoch 25/50\n",
      "\u001b[1m305/305\u001b[0m \u001b[32m━━━━━━━━━━━━━━━━━━━━\u001b[0m\u001b[37m\u001b[0m \u001b[1m2s\u001b[0m 6ms/step - accuracy: 0.5025 - loss: 1.2137 - val_accuracy: 0.4973 - val_loss: 1.1822\n",
      "Epoch 26/50\n",
      "\u001b[1m305/305\u001b[0m \u001b[32m━━━━━━━━━━━━━━━━━━━━\u001b[0m\u001b[37m\u001b[0m \u001b[1m2s\u001b[0m 6ms/step - accuracy: 0.5004 - loss: 1.2017 - val_accuracy: 0.5088 - val_loss: 1.1887\n",
      "Epoch 27/50\n",
      "\u001b[1m305/305\u001b[0m \u001b[32m━━━━━━━━━━━━━━━━━━━━\u001b[0m\u001b[37m\u001b[0m \u001b[1m2s\u001b[0m 5ms/step - accuracy: 0.5075 - loss: 1.2103 - val_accuracy: 0.4969 - val_loss: 1.1662\n",
      "Epoch 28/50\n",
      "\u001b[1m305/305\u001b[0m \u001b[32m━━━━━━━━━━━━━━━━━━━━\u001b[0m\u001b[37m\u001b[0m \u001b[1m2s\u001b[0m 5ms/step - accuracy: 0.5037 - loss: 1.2203 - val_accuracy: 0.5039 - val_loss: 1.1709\n",
      "Epoch 29/50\n",
      "\u001b[1m305/305\u001b[0m \u001b[32m━━━━━━━━━━━━━━━━━━━━\u001b[0m\u001b[37m\u001b[0m \u001b[1m2s\u001b[0m 5ms/step - accuracy: 0.5118 - loss: 1.1862 - val_accuracy: 0.5134 - val_loss: 1.1487\n",
      "Epoch 30/50\n",
      "\u001b[1m305/305\u001b[0m \u001b[32m━━━━━━━━━━━━━━━━━━━━\u001b[0m\u001b[37m\u001b[0m \u001b[1m2s\u001b[0m 5ms/step - accuracy: 0.5127 - loss: 1.1885 - val_accuracy: 0.5080 - val_loss: 1.1513\n",
      "Epoch 31/50\n",
      "\u001b[1m305/305\u001b[0m \u001b[32m━━━━━━━━━━━━━━━━━━━━\u001b[0m\u001b[37m\u001b[0m \u001b[1m2s\u001b[0m 5ms/step - accuracy: 0.5110 - loss: 1.1867 - val_accuracy: 0.5150 - val_loss: 1.1628\n",
      "Epoch 32/50\n",
      "\u001b[1m305/305\u001b[0m \u001b[32m━━━━━━━━━━━━━━━━━━━━\u001b[0m\u001b[37m\u001b[0m \u001b[1m2s\u001b[0m 5ms/step - accuracy: 0.5064 - loss: 1.1961 - val_accuracy: 0.5109 - val_loss: 1.1493\n",
      "Epoch 33/50\n",
      "\u001b[1m305/305\u001b[0m \u001b[32m━━━━━━━━━━━━━━━━━━━━\u001b[0m\u001b[37m\u001b[0m \u001b[1m3s\u001b[0m 7ms/step - accuracy: 0.5140 - loss: 1.1740 - val_accuracy: 0.5195 - val_loss: 1.1484\n",
      "Epoch 34/50\n",
      "\u001b[1m305/305\u001b[0m \u001b[32m━━━━━━━━━━━━━━━━━━━━\u001b[0m\u001b[37m\u001b[0m \u001b[1m2s\u001b[0m 7ms/step - accuracy: 0.5256 - loss: 1.1624 - val_accuracy: 0.5171 - val_loss: 1.1402\n",
      "Epoch 35/50\n",
      "\u001b[1m305/305\u001b[0m \u001b[32m━━━━━━━━━━━━━━━━━━━━\u001b[0m\u001b[37m\u001b[0m \u001b[1m2s\u001b[0m 7ms/step - accuracy: 0.5324 - loss: 1.1515 - val_accuracy: 0.5171 - val_loss: 1.1400\n",
      "Epoch 36/50\n",
      "\u001b[1m305/305\u001b[0m \u001b[32m━━━━━━━━━━━━━━━━━━━━\u001b[0m\u001b[37m\u001b[0m \u001b[1m2s\u001b[0m 6ms/step - accuracy: 0.5226 - loss: 1.1469 - val_accuracy: 0.5384 - val_loss: 1.1342\n",
      "Epoch 37/50\n",
      "\u001b[1m305/305\u001b[0m \u001b[32m━━━━━━━━━━━━━━━━━━━━\u001b[0m\u001b[37m\u001b[0m \u001b[1m2s\u001b[0m 6ms/step - accuracy: 0.5398 - loss: 1.1412 - val_accuracy: 0.5261 - val_loss: 1.1427\n",
      "Epoch 38/50\n",
      "\u001b[1m305/305\u001b[0m \u001b[32m━━━━━━━━━━━━━━━━━━━━\u001b[0m\u001b[37m\u001b[0m \u001b[1m2s\u001b[0m 5ms/step - accuracy: 0.5195 - loss: 1.1644 - val_accuracy: 0.5290 - val_loss: 1.1300\n",
      "Epoch 39/50\n",
      "\u001b[1m305/305\u001b[0m \u001b[32m━━━━━━━━━━━━━━━━━━━━\u001b[0m\u001b[37m\u001b[0m \u001b[1m2s\u001b[0m 5ms/step - accuracy: 0.5336 - loss: 1.1402 - val_accuracy: 0.5257 - val_loss: 1.1226\n",
      "Epoch 40/50\n",
      "\u001b[1m305/305\u001b[0m \u001b[32m━━━━━━━━━━━━━━━━━━━━\u001b[0m\u001b[37m\u001b[0m \u001b[1m2s\u001b[0m 6ms/step - accuracy: 0.5408 - loss: 1.1328 - val_accuracy: 0.5253 - val_loss: 1.1268\n",
      "Epoch 41/50\n",
      "\u001b[1m305/305\u001b[0m \u001b[32m━━━━━━━━━━━━━━━━━━━━\u001b[0m\u001b[37m\u001b[0m \u001b[1m2s\u001b[0m 6ms/step - accuracy: 0.5271 - loss: 1.1630 - val_accuracy: 0.5294 - val_loss: 1.1161\n",
      "Epoch 42/50\n",
      "\u001b[1m305/305\u001b[0m \u001b[32m━━━━━━━━━━━━━━━━━━━━\u001b[0m\u001b[37m\u001b[0m \u001b[1m2s\u001b[0m 6ms/step - accuracy: 0.5179 - loss: 1.1475 - val_accuracy: 0.5286 - val_loss: 1.1345\n",
      "Epoch 43/50\n",
      "\u001b[1m305/305\u001b[0m \u001b[32m━━━━━━━━━━━━━━━━━━━━\u001b[0m\u001b[37m\u001b[0m \u001b[1m2s\u001b[0m 5ms/step - accuracy: 0.5400 - loss: 1.1549 - val_accuracy: 0.5294 - val_loss: 1.1262\n",
      "Epoch 44/50\n",
      "\u001b[1m305/305\u001b[0m \u001b[32m━━━━━━━━━━━━━━━━━━━━\u001b[0m\u001b[37m\u001b[0m \u001b[1m2s\u001b[0m 6ms/step - accuracy: 0.5426 - loss: 1.1227 - val_accuracy: 0.5454 - val_loss: 1.1187\n",
      "Epoch 45/50\n",
      "\u001b[1m305/305\u001b[0m \u001b[32m━━━━━━━━━━━━━━━━━━━━\u001b[0m\u001b[37m\u001b[0m \u001b[1m3s\u001b[0m 7ms/step - accuracy: 0.5418 - loss: 1.1331 - val_accuracy: 0.5347 - val_loss: 1.1203\n",
      "Epoch 46/50\n",
      "\u001b[1m305/305\u001b[0m \u001b[32m━━━━━━━━━━━━━━━━━━━━\u001b[0m\u001b[37m\u001b[0m \u001b[1m2s\u001b[0m 7ms/step - accuracy: 0.5510 - loss: 1.1173 - val_accuracy: 0.5487 - val_loss: 1.1009\n",
      "Epoch 47/50\n",
      "\u001b[1m305/305\u001b[0m \u001b[32m━━━━━━━━━━━━━━━━━━━━\u001b[0m\u001b[37m\u001b[0m \u001b[1m2s\u001b[0m 7ms/step - accuracy: 0.5390 - loss: 1.1267 - val_accuracy: 0.5438 - val_loss: 1.1102\n",
      "Epoch 48/50\n",
      "\u001b[1m305/305\u001b[0m \u001b[32m━━━━━━━━━━━━━━━━━━━━\u001b[0m\u001b[37m\u001b[0m \u001b[1m2s\u001b[0m 6ms/step - accuracy: 0.5575 - loss: 1.0985 - val_accuracy: 0.5347 - val_loss: 1.1187\n",
      "Epoch 49/50\n",
      "\u001b[1m305/305\u001b[0m \u001b[32m━━━━━━━━━━━━━━━━━━━━\u001b[0m\u001b[37m\u001b[0m \u001b[1m2s\u001b[0m 5ms/step - accuracy: 0.5483 - loss: 1.0982 - val_accuracy: 0.5405 - val_loss: 1.1076\n",
      "Epoch 50/50\n",
      "\u001b[1m305/305\u001b[0m \u001b[32m━━━━━━━━━━━━━━━━━━━━\u001b[0m\u001b[37m\u001b[0m \u001b[1m2s\u001b[0m 6ms/step - accuracy: 0.5414 - loss: 1.1232 - val_accuracy: 0.5499 - val_loss: 1.1042\n"
     ]
    },
    {
     "name": "stderr",
     "output_type": "stream",
     "text": [
      "WARNING:absl:You are saving your model as an HDF5 file via `model.save()` or `keras.saving.save_model(model)`. This file format is considered legacy. We recommend using instead the native Keras format, e.g. `model.save('my_model.keras')` or `keras.saving.save_model(model, 'my_model.keras')`. \n"
     ]
    },
    {
     "name": "stdout",
     "output_type": "stream",
     "text": [
      "Models and encoders saved successfully!\n"
     ]
    }
   ],
   "source": [
    "from sklearn.model_selection import train_test_split\n",
    "from sklearn.preprocessing import LabelEncoder\n",
    "from tensorflow.keras.models import Sequential\n",
    "from tensorflow.keras.layers import Dense, Dropout\n",
    "import numpy as np\n",
    "import pandas as pd\n",
    "import joblib  # Add this import\n",
    "\n",
    "# Load data\n",
    "df = pd.read_pickle('emotion_features.pkl')\n",
    "X = np.array(df['features'].tolist())\n",
    "y = np.array(df['emotion'])\n",
    "\n",
    "# Encode labels\n",
    "encoder = LabelEncoder()\n",
    "y_encoded = encoder.fit_transform(y)\n",
    "np.save('classes.npy', encoder.classes_)\n",
    "\n",
    "# Train-test split\n",
    "X_train, X_test, y_train, y_test = train_test_split(X, y_encoded, test_size=0.2, random_state=42)\n",
    "\n",
    "# Build a simple neural network model\n",
    "model = Sequential([\n",
    "    Dense(256, activation='relu', input_shape=(X_train.shape[1],)),\n",
    "    Dropout(0.3),\n",
    "    Dense(128, activation='relu'),\n",
    "    Dropout(0.3),\n",
    "    Dense(len(encoder.classes_), activation='softmax')\n",
    "])\n",
    "model.compile(optimizer='adam', loss='sparse_categorical_crossentropy', metrics=['accuracy'])\n",
    "\n",
    "# Train the model\n",
    "history = model.fit(X_train, y_train, epochs=50, batch_size=32, validation_data=(X_test, y_test))\n",
    "\n",
    "# Save Keras model\n",
    "model.save('emotion_model.h5')\n",
    "\n",
    "# Save additional artifacts for Flask app\n",
    "joblib.dump(encoder, 'label_encoder.joblib')\n",
    "joblib.dump(model, 'emotion_model.joblib')\n",
    "\n",
    "print(\"Models and encoders saved successfully!\")"
   ]
  },
  {
   "cell_type": "code",
   "execution_count": null,
   "id": "0bfb96af-1f5a-45b5-a254-49dd01c03096",
   "metadata": {},
   "outputs": [],
   "source": []
  }
 ],
 "metadata": {
  "kernelspec": {
   "display_name": "Python 3 (ipykernel)",
   "language": "python",
   "name": "python3"
  },
  "language_info": {
   "codemirror_mode": {
    "name": "ipython",
    "version": 3
   },
   "file_extension": ".py",
   "mimetype": "text/x-python",
   "name": "python",
   "nbconvert_exporter": "python",
   "pygments_lexer": "ipython3",
   "version": "3.11.7"
  }
 },
 "nbformat": 4,
 "nbformat_minor": 5
}
